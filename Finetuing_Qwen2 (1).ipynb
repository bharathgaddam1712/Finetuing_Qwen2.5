{
  "nbformat": 4,
  "nbformat_minor": 0,
  "metadata": {
    "colab": {
      "provenance": [],
      "gpuType": "T4"
    },
    "kernelspec": {
      "name": "python3",
      "display_name": "Python 3"
    },
    "language_info": {
      "name": "python"
    },
    "accelerator": "GPU"
  },
  "cells": [
    {
      "cell_type": "code",
      "execution_count": 1,
      "metadata": {
        "colab": {
          "base_uri": "https://localhost:8080/"
        },
        "id": "DYMl6GciDBgq",
        "outputId": "073af2d6-1e57-456a-c398-6d1e9e2101c0"
      },
      "outputs": [
        {
          "output_type": "stream",
          "name": "stdout",
          "text": [
            "Requirement already satisfied: bitsandbytes in /usr/local/lib/python3.11/dist-packages (0.45.4)\n",
            "Requirement already satisfied: accelerate in /usr/local/lib/python3.11/dist-packages (1.5.2)\n",
            "Requirement already satisfied: xformers==0.0.29.post3 in /usr/local/lib/python3.11/dist-packages (0.0.29.post3)\n",
            "Requirement already satisfied: peft in /usr/local/lib/python3.11/dist-packages (0.14.0)\n",
            "Requirement already satisfied: trl in /usr/local/lib/python3.11/dist-packages (0.16.0)\n",
            "Requirement already satisfied: triton in /usr/local/lib/python3.11/dist-packages (3.2.0)\n",
            "Requirement already satisfied: cut_cross_entropy in /usr/local/lib/python3.11/dist-packages (25.1.1)\n",
            "Requirement already satisfied: unsloth_zoo in /usr/local/lib/python3.11/dist-packages (2025.3.17)\n",
            "Requirement already satisfied: sentencepiece in /usr/local/lib/python3.11/dist-packages (0.2.0)\n",
            "Requirement already satisfied: protobuf in /usr/local/lib/python3.11/dist-packages (5.29.4)\n",
            "Requirement already satisfied: datasets in /usr/local/lib/python3.11/dist-packages (3.5.0)\n",
            "Requirement already satisfied: huggingface_hub in /usr/local/lib/python3.11/dist-packages (0.29.3)\n",
            "Requirement already satisfied: hf_transfer in /usr/local/lib/python3.11/dist-packages (0.1.9)\n",
            "Requirement already satisfied: filelock in /usr/local/lib/python3.11/dist-packages (from datasets) (3.18.0)\n",
            "Requirement already satisfied: numpy>=1.17 in /usr/local/lib/python3.11/dist-packages (from datasets) (2.0.2)\n",
            "Requirement already satisfied: pyarrow>=15.0.0 in /usr/local/lib/python3.11/dist-packages (from datasets) (18.1.0)\n",
            "Requirement already satisfied: dill<0.3.9,>=0.3.0 in /usr/local/lib/python3.11/dist-packages (from datasets) (0.3.8)\n",
            "Requirement already satisfied: pandas in /usr/local/lib/python3.11/dist-packages (from datasets) (2.2.2)\n",
            "Requirement already satisfied: requests>=2.32.2 in /usr/local/lib/python3.11/dist-packages (from datasets) (2.32.3)\n",
            "Requirement already satisfied: tqdm>=4.66.3 in /usr/local/lib/python3.11/dist-packages (from datasets) (4.67.1)\n",
            "Requirement already satisfied: xxhash in /usr/local/lib/python3.11/dist-packages (from datasets) (3.5.0)\n",
            "Requirement already satisfied: multiprocess<0.70.17 in /usr/local/lib/python3.11/dist-packages (from datasets) (0.70.16)\n",
            "Requirement already satisfied: fsspec<=2024.12.0,>=2023.1.0 in /usr/local/lib/python3.11/dist-packages (from fsspec[http]<=2024.12.0,>=2023.1.0->datasets) (2024.12.0)\n",
            "Requirement already satisfied: aiohttp in /usr/local/lib/python3.11/dist-packages (from datasets) (3.11.14)\n",
            "Requirement already satisfied: packaging in /usr/local/lib/python3.11/dist-packages (from datasets) (24.2)\n",
            "Requirement already satisfied: pyyaml>=5.1 in /usr/local/lib/python3.11/dist-packages (from datasets) (6.0.2)\n",
            "Requirement already satisfied: typing-extensions>=3.7.4.3 in /usr/local/lib/python3.11/dist-packages (from huggingface_hub) (4.13.0)\n",
            "Requirement already satisfied: aiohappyeyeballs>=2.3.0 in /usr/local/lib/python3.11/dist-packages (from aiohttp->datasets) (2.6.1)\n",
            "Requirement already satisfied: aiosignal>=1.1.2 in /usr/local/lib/python3.11/dist-packages (from aiohttp->datasets) (1.3.2)\n",
            "Requirement already satisfied: attrs>=17.3.0 in /usr/local/lib/python3.11/dist-packages (from aiohttp->datasets) (25.3.0)\n",
            "Requirement already satisfied: frozenlist>=1.1.1 in /usr/local/lib/python3.11/dist-packages (from aiohttp->datasets) (1.5.0)\n",
            "Requirement already satisfied: multidict<7.0,>=4.5 in /usr/local/lib/python3.11/dist-packages (from aiohttp->datasets) (6.2.0)\n",
            "Requirement already satisfied: propcache>=0.2.0 in /usr/local/lib/python3.11/dist-packages (from aiohttp->datasets) (0.3.1)\n",
            "Requirement already satisfied: yarl<2.0,>=1.17.0 in /usr/local/lib/python3.11/dist-packages (from aiohttp->datasets) (1.18.3)\n",
            "Requirement already satisfied: charset-normalizer<4,>=2 in /usr/local/lib/python3.11/dist-packages (from requests>=2.32.2->datasets) (3.4.1)\n",
            "Requirement already satisfied: idna<4,>=2.5 in /usr/local/lib/python3.11/dist-packages (from requests>=2.32.2->datasets) (3.10)\n",
            "Requirement already satisfied: urllib3<3,>=1.21.1 in /usr/local/lib/python3.11/dist-packages (from requests>=2.32.2->datasets) (2.3.0)\n",
            "Requirement already satisfied: certifi>=2017.4.17 in /usr/local/lib/python3.11/dist-packages (from requests>=2.32.2->datasets) (2025.1.31)\n",
            "Requirement already satisfied: python-dateutil>=2.8.2 in /usr/local/lib/python3.11/dist-packages (from pandas->datasets) (2.8.2)\n",
            "Requirement already satisfied: pytz>=2020.1 in /usr/local/lib/python3.11/dist-packages (from pandas->datasets) (2025.2)\n",
            "Requirement already satisfied: tzdata>=2022.7 in /usr/local/lib/python3.11/dist-packages (from pandas->datasets) (2025.2)\n",
            "Requirement already satisfied: six>=1.5 in /usr/local/lib/python3.11/dist-packages (from python-dateutil>=2.8.2->pandas->datasets) (1.17.0)\n",
            "Requirement already satisfied: unsloth in /usr/local/lib/python3.11/dist-packages (2025.3.19)\n"
          ]
        }
      ],
      "source": [
        "!pip install --no-deps bitsandbytes accelerate xformers==0.0.29.post3 peft trl triton cut_cross_entropy unsloth_zoo\n",
        "!pip install sentencepiece protobuf datasets huggingface_hub hf_transfer\n",
        "!pip install --no-deps unsloth"
      ]
    },
    {
      "cell_type": "code",
      "source": [
        "from unsloth import FastVisionModel\n",
        "\n",
        "\n",
        "import torch"
      ],
      "metadata": {
        "colab": {
          "base_uri": "https://localhost:8080/"
        },
        "id": "D2gT4k9tElpK",
        "outputId": "2f10df7e-906f-4d49-cea2-c0e05bf3d499"
      },
      "execution_count": 10,
      "outputs": [
        {
          "output_type": "stream",
          "name": "stdout",
          "text": [
            "🦥 Unsloth: Will patch your computer to enable 2x faster free finetuning.\n",
            "🦥 Unsloth Zoo will now patch everything to make training faster!\n"
          ]
        }
      ]
    },
    {
      "cell_type": "code",
      "source": [
        "model, tokenizer = FastVisionModel.from_pretrained(\n",
        "    \"unsloth/Qwen2.5-VL-7B-Instruct-bnb-4bit\",\n",
        "    load_in_4bit = True, # Use 4bit to reduce memory use. False for 16bit LoRA.\n",
        "    use_gradient_checkpointing = \"unsloth\", # True or \"unsloth\" for long context\n",
        ")"
      ],
      "metadata": {
        "colab": {
          "base_uri": "https://localhost:8080/"
        },
        "id": "ZjgeYcyCFwLj",
        "outputId": "a77b1bee-8ee7-4502-b8a3-f99033130a7e"
      },
      "execution_count": 11,
      "outputs": [
        {
          "output_type": "stream",
          "name": "stdout",
          "text": [
            "==((====))==  Unsloth 2025.3.19: Fast Qwen2 patching. Transformers: 4.50.2.\n",
            "   \\\\   /|    Tesla T4. Num GPUs = 1. Max memory: 14.741 GB. Platform: Linux.\n",
            "O^O/ \\_/ \\    Torch: 2.6.0+cu124. CUDA: 7.5. CUDA Toolkit: 12.4. Triton: 3.2.0\n",
            "\\        /    Bfloat16 = FALSE. FA [Xformers = 0.0.29.post3. FA2 = False]\n",
            " \"-____-\"     Free license: http://github.com/unslothai/unsloth\n",
            "Unsloth: Fast downloading is enabled - ignore downloading bars which are red colored!\n"
          ]
        },
        {
          "output_type": "stream",
          "name": "stderr",
          "text": [
            "Using a slow image processor as `use_fast` is unset and a slow processor was saved with this model. `use_fast=True` will be the default behavior in v4.52, even if the model was saved with a slow processor. This will result in minor differences in outputs. You'll still be able to use a slow processor with `use_fast=False`.\n"
          ]
        }
      ]
    },
    {
      "cell_type": "code",
      "source": [
        "\n",
        "model = FastVisionModel.get_peft_model(\n",
        "    model,\n",
        "    finetune_vision_layers     = True, # False if not finetuning vision layers\n",
        "    finetune_language_layers   = True, # False if not finetuning language layers\n",
        "    finetune_attention_modules = True, # False if not finetuning attention layers\n",
        "    finetune_mlp_modules       = True, # False if not finetuning MLP layers\n",
        "\n",
        "    r = 16,           # The larger, the higher the accuracy, but might overfit\n",
        "    lora_alpha = 16,  # Recommended alpha == r at least\n",
        "    lora_dropout = 0,\n",
        "    bias = \"none\",\n",
        "    random_state = 3407,\n",
        "    use_rslora = False,  # We support rank stabilized LoRA\n",
        "    loftq_config = None, # And LoftQ\n",
        "\n",
        ")"
      ],
      "metadata": {
        "id": "xW5LINiIGSB7"
      },
      "execution_count": 13,
      "outputs": []
    },
    {
      "cell_type": "code",
      "source": [
        "from datasets import load_dataset\n",
        "\n",
        "ds = load_dataset(\"unsloth/LaTeX_OCR\",split = \"train\")"
      ],
      "metadata": {
        "id": "01vMAolSGwTG"
      },
      "execution_count": 14,
      "outputs": []
    },
    {
      "cell_type": "code",
      "source": [
        "ds\n"
      ],
      "metadata": {
        "colab": {
          "base_uri": "https://localhost:8080/"
        },
        "id": "KRMUffBnIW9_",
        "outputId": "48e3193b-8b6e-4cae-e8b9-61d225069c07"
      },
      "execution_count": 15,
      "outputs": [
        {
          "output_type": "execute_result",
          "data": {
            "text/plain": [
              "Dataset({\n",
              "    features: ['image', 'text'],\n",
              "    num_rows: 68686\n",
              "})"
            ]
          },
          "metadata": {},
          "execution_count": 15
        }
      ]
    },
    {
      "cell_type": "code",
      "source": [
        "ds[2][\"image\"]"
      ],
      "metadata": {
        "colab": {
          "base_uri": "https://localhost:8080/",
          "height": 67
        },
        "id": "zWcHkHt5IkEi",
        "outputId": "5de70ad7-ffda-4add-b8b2-d08a50ed9a80"
      },
      "execution_count": 16,
      "outputs": [
        {
          "output_type": "execute_result",
          "data": {
            "text/plain": [
              "<PIL.PngImagePlugin.PngImageFile image mode=RGB size=320x50>"
            ],
            "image/png": "[encoded data removed]",
            "image/jpeg": "[encoded data removed]"
          },
          "metadata": {},
          "execution_count": 16
        }
      ]
    },
    {
      "cell_type": "code",
      "source": [
        "ds[2][\"text\"]"
      ],
      "metadata": {
        "colab": {
          "base_uri": "https://localhost:8080/",
          "height": 70
        },
        "id": "JZcPTWM5Impk",
        "outputId": "def2f14f-0d52-4589-8127-563f57119317"
      },
      "execution_count": 17,
      "outputs": [
        {
          "output_type": "execute_result",
          "data": {
            "text/plain": [
              "'H ^ { \\\\prime } = \\\\beta N \\\\int d \\\\lambda \\\\biggl \\\\{ \\\\frac { 1 } { 2 \\\\beta ^ { 2 } N ^ { 2 } } \\\\partial _ { \\\\lambda } \\\\zeta ^ { \\\\dagger } \\\\partial _ { \\\\lambda } \\\\zeta + V ( \\\\lambda ) \\\\zeta ^ { \\\\dagger } \\\\zeta \\\\biggr \\\\} \\\\ .'"
            ],
            "application/vnd.google.colaboratory.intrinsic+json": {
              "type": "string"
            }
          },
          "metadata": {},
          "execution_count": 17
        }
      ]
    },
    {
      "cell_type": "code",
      "source": [
        "Statement = \"Convert the following mathematical equation into latex form\"\n",
        "\n",
        "def convert_to_conversation(sample):\n",
        "  conversation = [\n",
        "      {\"role\": \"user\",\n",
        "       \"content\": [\n",
        "           {\"type\": \"text\", \"text\": Statement},\n",
        "           {\"type\": \"image\", \"image\": sample[\"image\"]}\n",
        "       ]\n",
        "       },\n",
        "      {\"role\": \"assistant\",\n",
        "       \"content\": [\n",
        "           {\"type\": \"text\", \"text\": sample[\"text\"]}\n",
        "       ]\n",
        "       }\n",
        "  ]\n",
        "  return {\"messages\": conversation}\n",
        "\n"
      ],
      "metadata": {
        "id": "U3XwVG1IIqSw"
      },
      "execution_count": 18,
      "outputs": []
    },
    {
      "cell_type": "code",
      "source": [
        "converted_dataset = ds.map(convert_to_conversation)"
      ],
      "metadata": {
        "id": "_FlZn8QhJi-s"
      },
      "execution_count": 19,
      "outputs": []
    },
    {
      "cell_type": "code",
      "source": [
        "converted_dataset[1]"
      ],
      "metadata": {
        "colab": {
          "base_uri": "https://localhost:8080/"
        },
        "id": "FaeTG6ARKL3r",
        "outputId": "4fa0b0a7-d92b-499c-e6d2-d8c3e2e73286"
      },
      "execution_count": 20,
      "outputs": [
        {
          "output_type": "execute_result",
          "data": {
            "text/plain": [
              "{'image': <PIL.PngImagePlugin.PngImageFile image mode=RGB size=120x50>,\n",
              " 'text': 'D _ { \\\\mu } ^ { \\\\alpha \\\\beta } \\\\bar { A } _ { \\\\mu } ^ { \\\\alpha \\\\beta } = 0 ,',\n",
              " 'messages': [{'content': [{'image': None,\n",
              "     'text': 'Convert the following mathematical equation into latex form',\n",
              "     'type': 'text'},\n",
              "    {'image': {'bytes': b'\\x89PNG\\r\\n\\x1a\\n\\x00\\x00\\x00\\rIHDR\\x00\\x00\\x00x\\x00\\x00\\x002\\x08\\x02\\x00\\x00\\x00\\x18\\xc5\\x88\\x8f\\x00\\x00\\x08\\x10IDATx\\x9c\\xed\\x99[HT]\\x1b\\xc7\\x9f}r\\xd7x\\x9a\\t\\x83N&QP\\x84\\x84 eT\\x96\\x96\\x87J\"\\xbaI\\xc4\\x0e\\x17F\\xde\\x04\\xd6X\\x92f\\x99\\x8e\\x14b\\x17\\xde\\x14\\x15\\xa4X\\x18\\x05)\\x15\\xa9\\x91\\x8a&\\x94\\xddDdvQx\\x82\\xc4\\xc6\\x06\\xc7ft\\xc6}Z{}\\x17\\x0bw\\xe3\\xf1\\x9b\\xf1\\x9dwW\\xdf\\xb7\\x7f\\x172\\xb3f\\xaf\\xff^\\xeb\\xbf\\x9f\\xf5<km)\\x8c1\\x18\\xfc\\xfb\\xd0\\xc1\\x95\\xc3\\x18\\x07\\xeb\\xc9\\x05Q\\xeaO\\x80\\r\\xa2\\x16B\\x88a\\x989\\x7fRU\\x15!\\xa4}e\\x18\\x86\\xa6\\x17z\\xc6\\x0bH\\xfd\\xa5P\\xc1\\x8a\\x1aUUi\\x9a\\x1e\\x19\\x19\\x11Eq\\xed\\xda\\xb5\\x00\\x801\\xa6(\\xea\\xf7J\\xfd9\\xcc\\x11\\xd1sZ\\xaf\\xcd\\x13cLb\\x93\\xa2(\\x86a\\x88\\x05$\\x00\\xef\\xdf\\xbf\\xdf\\xd8\\xd8h6\\x9b\\xbf}\\xfb\\xf6\\xf4\\xe9S\\x96e\\x01@UU\\x86a\\x1a\\x1b\\x1b\\x9b\\x9b\\x9bi\\x9aV\\x14\\x85\\xa2\\xa8\\x8c\\x8c\\x8c\\x83\\x07\\x0f*\\x8a\\xa2\\x89\\xfb#\\xb5h\\xaf\\xc9\\x8c~\\xef\\xa3\\x9a\\xc3\\xe89\\x07\\xa4(\\n\\xcb\\xb2\\xc4\\x0b2m\\x98Z\\xe0\\x08!\\x9a\\xa6\\x9f<yR]]\\xdd\\xd1\\xd1\\xd1\\xd1\\xd1\\x91\\x9c\\x9c,\\x8abHH\\x88\\xf6\\xcc\\x88&\\xc30QQQ\\x0e\\x87\\x03\\x000\\xc64Mk\\t\\xc4\\x7f\\xa9\\x80 aA\\x06L\\xa6\\xb0\\x08\\x91\\xa003u`\\x8c\\x07\\x07\\x07y\\x9e\\x8f\\x8c\\x8c\\xfc\\xf1\\xe3\\x07\\xc6x\\xc9\\x92%\\x91\\x91\\x91\\xa1\\xa1\\xa1dE#\\x84JKK\\x11B\\x89\\x89\\x89\\xfb\\xf7\\xef\\xb7\\xdb\\xed\\x16\\x8b\\x85\\xe7y\\xab\\xd5:00\\xb0f\\xcd\\x9a\\xb6\\xb6\\xb6\\xcc\\xcc\\xcc\\x92\\x92\\x929\\'VWW\\x97\\x9d\\x9dM>\\xffC)\\xff\\xf9\\xf9\\xf3\\'\\x00\\x98\\xcd\\xe6\\xdf\\x98\\x82fV$A\\x10\\x9a\\x9a\\x9a\\xce\\x9d;g6\\x9b\\x1f=z\\xf4\\xec\\xd9\\xb3\\xbc\\xbc\\xbc\\xe8\\xe8\\xe8\\xb2\\xb22\\x9a\\xa6\\xbd^\\xef\\xbe}\\xfb\\xda\\xda\\xda\\xd6\\xaf_\\x7f\\xe8\\xd0\\xa1\\xea\\xea\\xea\\xd2\\xd2R\\x00p\\xbb\\xdd/_\\xbe\\x8c\\x8d\\x8dU\\x14\\xa5\\xbf\\xbf?>>\\x1e\\xa6\\xaf\\x0cQ\\x14%I*,,<v\\xec\\x98 \\x08\\x08!\\x8f\\xc7\\xb38)?!\\x01\\xe4\\xf5z/^\\xbc\\x18\\x17\\x17\\x17\\x17\\x17g\\xb3\\xd9(*h5)`\\xb0\\x0fdo\\x801NII\\xd9\\xb5k\\x97\\xd6\\xde\\xd0\\xd0\\x00\\x00\\xef\\xde\\xbd\\xab\\xaa\\xaa\\x02\\x00\\x8f\\xc7\\x831\\xbez\\xf5*\\x00\\xdc\\xbau\\x0bc\\xdc\\xdd\\xdd]VVF.\\xce\\xc9\\xc9\\xc9\\xc9\\xc9\\xc1\\x18K\\x92DZ\\x10B\\x08!A\\x10x\\x9e\\xe7y\\xbe\\xa9\\xa9I\\xeb\\x1e\\xa8\\x946\\xce9\\xf1\\xbd\\x86t\\xc9\\xcf\\xcf\\xdf\\xb0a\\x83\\xc3\\xe1\\x18\\x1c\\x1c\\x04\\x80\\x96\\x96\\x16\\x8c\\xb1\\xa2(XwfF4I\\x0e\\xad\\xad\\xad\\xc9\\xc9\\xc9$\\xee\\x00\\xe0\\xc8\\x91#,\\xcbvvv\\x0e\\x0f\\x0fgee\\x99L&UUGGGSSS\\xd3\\xd2\\xd2\\x00\\xa0\\xa6\\xa6\\xc6\\xe5r\\x01\\x80\\xd3\\xe9\\xbcw\\xef^LL\\xcc\\x8cgI\\xd3tFFFBB\\x02\\xc6\\xb8\\xb9\\xb9\\x19\\x00z{{O\\x9c8\\x11\\xa8\\x14\\x81\\x9a\\x07<\\x15\\xad\\x18c\\x8e\\xe3&\\'\\'\\xab\\xaa\\xaaN\\x9d:\\x15\\x15\\x15\\x15\\x13\\x13s\\xf6\\xecY\\xab\\xd5*\\xcb2\\xccS\\xf0\\xffU\\xa6%>\\xb2Chii\\xe18n\\xc7\\x8e\\x1d\\x0c\\xc3\\xf0<\\x0f\\x00N\\xa7\\x93e\\xd9\\x1b7n\\xdc\\xbcy\\xb3\\xae\\xae.//\\xcfn\\xb7\\xb7\\xb6\\xb6\\xc6\\xc4\\xc4TVV\\xde\\xbe}[Q\\x94\\x0f\\x1f>\\x9c?\\x7f\\xfe\\xeb\\xd7\\xaf)))V\\xabUUU\\xad\\x041\\x0c\\xf3\\xfc\\xf9\\xf3\\xef\\xdf\\xbfwuuY,\\x96\\xf0\\xf0p\\x00\\xc8\\xcc\\xcc<}\\xfat@R\\x18c\\xe2\\xe6\\xd8\\xd8\\x98\\xaf\\xad\\xe43M\\xd3f\\xb3y\\xc6\\xf4\\x10Bn\\xb7\\x9b\\\\\\x19\\x19\\x19\\xf9\\xe9\\xd3\\'Y\\x96M&\\x93\\xfeFOK\\x1d\\xa2(b\\x8c\\x8b\\x8b\\x8b\\xb5v\\xb2\\x1eeY\\x0e\\t\\tILL\\xc4\\x18\\x8f\\x8c\\x8c\\x14\\x14\\x14\\x0c\\x0c\\x0c8\\x1c\\x8e\\x92\\x92\\x12\\x8f\\xc7\\xe3t:7m\\xda\\xf4\\xf1\\xe3\\xc7\\xa2\\xa2\\xa2\\xbe\\xbe>\\xdf\\x8exj\\x9d\\xee\\xde\\xbd\\xbb\\xbb\\xbb\\x9bL\\xaf\\xa8\\xa8\\x88\\xfc\\x14\\xa8\\x14BH\\x14\\xc5\\xac\\xac\\xacU\\xabVEGG\\xaf\\x9ab\\xf5\\xea\\xd5\\xd1\\xd1\\xd1\\xeb\\xd6\\xadkoo\\'w$]\\xbc^/\\x00\\x14\\x17\\x17\\x93\\xee\\x97.]\"e\\xc6WS7~\\x19M\\x12\\xb4 \\x08IIIIII\\xa4d\\xc9\\xb2\\x8c\\x10\\xea\\xea\\xea\\x02\\x80\\xaa\\xaa\\xaa\\xd9\\xa9\\x10c\\xdc\\xdf\\xdf_YY\\xe9\\xdb2\\xc3\\xe5\\xfa\\xfaz\\x00\\xc8\\xcb\\xcb;s\\xe6\\x0cEQ\\xd7\\xaf_\\xc7\\x18ONN\\xce\\x1e\\xcd\\x02R\\x04\\x84\\x90\\xc3\\xe1p\\xcfb||\\xdc\\xe5r\\xb9\\\\.<\\x95\\xc1\\xf1,\\xa3I\\x00y\\xbd^\\xad\\x14\\xe9\\xc9\\xb4\\x1cM\\xd34\\xcf\\xf3\\x1d\\x1d\\x1d;w\\xee\\xe4y^\\x14E\\x8a\\xa2h\\x9a\\xce\\xcf\\xcf\\xa7(\\xea\\xf8\\xf1\\xe3\\x00\\xa0\\xaa*\\xf1H\\xfb@\\xd2\\x1f\\xc6X\\x96e\\xecs4 \\x13v8\\x1c\\xb9\\xb9\\xb9\\x05\\x05\\x05\\x8a\\xa2\\x90\\x15\\xd3\\xde\\xde.\\x08BHH\\x88\\xffR\\xbe#4\\x99Ls\\xaeK\\x8a\\xa2\\x96.]:\\xbb\\x0b1\\x9d\\xf4%-dRA\\xc8\\x06\\x81\\xf0+G\\x93\\x04\\xfd\\xfa\\xf5k\\x9e\\xe7SSS\\x01\\x80\\x8c\\xbb\\xbe\\xbe\\xfe\\xed\\xdb\\xb7/^\\xbcX\\xb6l\\x199Vh\\xf3\\xd1>\\x90qs\\x1c\\xe7+M\\xce#\\x15\\x15\\x15\\'O\\x9e\\xac\\xa8\\xa8 \\x8d\\xa3\\xa3\\xa3\\r\\r\\r,\\xcb\\x92.~J\\xc1\\x94\\x95\\xe3\\xe3\\xe3[\\xb7n\\x1d\\x1f\\x1f\\x9f\\xb1Q\\xe38N\\x96e\\xab\\xd5\\x9a\\x9f\\x9fO\\xaa\\x02ig\\x18&<<\\x9cX\\xaf(\\n\\xc7q\\x14EMNN\"\\x84BCCu\\xddSk\\xb1-\\x08B\\x7f\\x7f\\xff\\xd1\\xa3G\\x01\\xa0\\xb7\\xb7\\xb7\\xb7\\xb7\\xf7\\xc1\\x83\\x07\\xdb\\xb6m\\xb3X,dCF\\xf2\\xc0\\xd8\\xd8\\x98\\xcdf\\x13E\\xd1\\xedv\\xdbl\\xb69S\\x1e\\xf9j\\xb7\\xdbsss\\x01\\xe0\\xcb\\x97/\\xb2,OLL|\\xfe\\xfc9!!\\x01\\x00zzz\\xfc\\x94\\x9a\\x81\\xaa\\xaaN\\xa7stt\\x94\\xfc\\xd5 _\\x89\\x02A\\xdb\\xdem\\xde\\xbcY\\x92$\\xbb\\xdd\\x0e\\x00W\\xae\\\\QU\\x15\\x00\"\"\"&&&\\xfe\\xeb\\xed\\x82\\xc8\\xaf\\xb8\\x90$\\xe9\\xee\\xdd\\xbb\\x1e\\x8fG\\x10\\x04\\x93\\xc9\\xc4\\xb2\\xac\\xd3\\xe9D\\x08]\\xb8p\\xc1b\\xb1 \\x84TU\\xe58\\xae\\xac\\xac\\xac\\xa6\\xa6\\xa6\\xaf\\xaf\\xaf\\xbc\\xbc\\xbc\\xb6\\xb6\\xb6\\xa7\\xa7\\x87\\xe7y\\xb2\\xbb\\xd2\\x1e\\x1e9C\\xbey\\xf3\\xe6\\xf1\\xe3\\xc7\\x16\\x8b\\xe5\\xc0\\x81\\x03\\xdb\\xb7o\\x17E\\xf1\\xce\\x9d;CCCaaaaaaV\\xab\\xd5f\\xb3UWW/,\\xf5\\x0f\\x03H\\x92\\xa4\\xf4\\xf4\\xf4\\x88\\x88\\x88\\xe1\\xe1\\xe1\\xf4\\xf4\\xf4\\xcb\\x97/3\\x0cs\\xed\\xda\\xb5\\xce\\xce\\xce\\x87\\x0f\\x1f\\xaeX\\xb1\\x02\\xebvV\\xf4\\xe7i\\x90\\xd2\\xa1(\\x8a$I\\xf1\\xf1\\xf1\\xa4\\xbc\\xc4\\xc6\\xc6\\x92\\x93\\x05\\xc9\\xbc\\x81\\xb2h\\xa9\\xf9N+\\xb3cSk\\x19\\x1e\\x1ev:\\x9d\\xbe?m\\xd9\\xb2\\xc5\\xe1p`\\x1d#zZMP\\x14EQ\\x14Y\\x96\\x95)HQ\\xa2i\\x1acL^\\xfa\\xbc\\x7f\\xff~\\xf9\\xf2\\xe5\\x00044\\xe4r\\xb9\\xea\\xeb\\xebY\\x96\\xf5}\\xd7\\xac\\xa1\\xaa\\xaa,\\xcb\\xb2,\\x93\\xd5J\\xf4eY\\x96$\\x89\\x9c\\x15\\xfd\\x97\\xf2e\\xbe\\xd3\\xca\\xec\\xc0\\xd4\\xf2\\xf8\\xca\\x95+-\\x16\\x0b\\xd9AI\\x92\\xb4q\\xe3\\xc6\\xbd{\\xf7FEE\\xc9\\xb2\\xac[\\x9a\\x9ef4\\xcb\\xb2,\\xcbr\\x1c\\xc7NA\\xaa\\x87v\\x81(\\x8a\\x00P[[{\\xf8\\xf0aY\\x96_\\xbdz%\\x8a\\xe2|\\x15\\x9c\\xa6i\\x8e\\xe38\\x8e\\xd3. \\x82\\x1c\\xc71\\x0c\\x13\\x90\\xd4\\xa2!\\x83\\'1\\xc5\\xb2,\\x89\\x95\\xec\\xecl\\x9b\\xcdF\\xc6\\x13\\xdc\\xdb-4\\x12\\xec\\xdf\\x19I\\x96e\\x8e\\xe3\\n\\x0b\\x0b\\xdb\\xda\\xda\\xf6\\xec\\xd9\\x93\\x94\\x94D\\xd3\\xb4\\xdb\\xed\\xce\\xcc\\xcc$\\x19\\xd9\\xff[\\x06Q\\xea/\"\\xb0G*\\x08BZZZyy\\xb9\\xd6\\xb2hk\\x82(\\x15(d\\xff\\xa7\\xf3\\xfb\\xd2\\xc0^\\x1b\\x8a\\xa2\\x88\\x10\\xf2\\xcd\\x06\\x8b\\xfe\\xcf^\\x10\\xa5\\xfe\\n~\\xdf\\xfb\\xd9\\xff3\\x02[\\xaa\\xa4\\xaa\\x04\\xe5\\xc6A\\x94\\xfa+0\"Z\\'\\xfe7K\\xfc\\x1f\\x88a\\xb4N\\x18F\\xeb\\x84a\\xb4N\\x18F\\xeb\\x84a\\xb4N\\x18F\\xeb\\x84a\\xb4N\\x18F\\xeb\\x84a\\xb4N\\x18F\\xeb\\x84a\\xb4N\\x18F\\xeb\\x84a\\xb4N\\x18F\\xeb\\x84a\\xb4N\\x18F\\xeb\\x84a\\xb4N\\x18F\\xeb\\x84a\\xb4N\\x18F\\xeb\\x84a\\xb4N\\x18F\\xeb\\x84a\\xb4N\\xfc\\x07\\x8f\\x11\\x07\\xbdj\\xf9\\x19\\x08\\x00\\x00\\x00\\x00IEND\\xaeB`\\x82',\n",
              "      'path': None},\n",
              "     'text': None,\n",
              "     'type': 'image'}],\n",
              "   'role': 'user'},\n",
              "  {'content': [{'image': None,\n",
              "     'text': 'D _ { \\\\mu } ^ { \\\\alpha \\\\beta } \\\\bar { A } _ { \\\\mu } ^ { \\\\alpha \\\\beta } = 0 ,',\n",
              "     'type': 'text'}],\n",
              "   'role': 'assistant'}]}"
            ]
          },
          "metadata": {},
          "execution_count": 20
        }
      ]
    },
    {
      "cell_type": "code",
      "source": [
        "FastVisionModel.for_inference(model)\n",
        "image = ds[2][\"image\"]\n",
        "instruction = \"Write the LaTeX representation for this image.\"\n",
        "\n",
        "messages = [\n",
        "    {\"role\": \"user\", \"content\": [\n",
        "        {\"type\": \"image\", \"image\" : image},\n",
        "        {\"type\": \"text\", \"text\": instruction}\n",
        "    ]}\n",
        "]\n",
        "\n",
        "\n",
        "input_text = tokenizer.apply_chat_template(messages, add_generation_prompt = True)\n",
        "inputs = tokenizer(\n",
        "    image,\n",
        "    input_text,\n",
        "\n",
        "    return_tensors = \"pt\"\n",
        "\n",
        ").to(\"cuda\")\n"
      ],
      "metadata": {
        "id": "Lke_IgWjKTvt"
      },
      "execution_count": 24,
      "outputs": []
    },
    {
      "cell_type": "code",
      "source": [
        "from transformers import TextStreamer\n",
        "text_streamer = TextStreamer(tokenizer, skip_prompt = True)\n",
        "_ = model.generate(**inputs, streamer = text_streamer, max_new_tokens = 128,\n",
        "                   use_cache = True, temperature = 1.5, min_p = 0.1)\n"
      ],
      "metadata": {
        "colab": {
          "base_uri": "https://localhost:8080/"
        },
        "id": "8v7wg5umMYp6",
        "outputId": "c454ba15-1645-4bc7-c517-2d8833018d41"
      },
      "execution_count": 25,
      "outputs": [
        {
          "output_type": "stream",
          "name": "stdout",
          "text": [
            "```latex\n",
            "H' = \\beta N \\int d\\lambda \\left\\{ \\frac{1}{2\\beta^2 N^2} \\partial_\\lambda \\zeta^\\dagger \\partial_\\lambda \\zeta + V(\\lambda) \\zeta^\\dagger \\zeta \\right\\}.\n",
            "```<|im_end|>\n"
          ]
        }
      ]
    },
    {
      "cell_type": "markdown",
      "source": [
        "Training SFTT"
      ],
      "metadata": {
        "id": "IxLIE1ALNxuD"
      }
    },
    {
      "cell_type": "code",
      "source": [
        "from unsloth import is_bf16_supported\n",
        "from unsloth.trainer import UnslothVisionDataCollator\n",
        "from trl import SFTTrainer, SFTConfig"
      ],
      "metadata": {
        "id": "775LF38JNP8z"
      },
      "execution_count": 26,
      "outputs": []
    },
    {
      "cell_type": "code",
      "source": [
        "FastVisionModel.for_training(model) # Enable for training!"
      ],
      "metadata": {
        "colab": {
          "base_uri": "https://localhost:8080/"
        },
        "id": "Fl-DhN3rNP6j",
        "outputId": "e05100c7-6602-4611-8403-69957dc7b1f9"
      },
      "execution_count": 27,
      "outputs": [
        {
          "output_type": "execute_result",
          "data": {
            "text/plain": [
              "PeftModelForCausalLM(\n",
              "  (base_model): LoraModel(\n",
              "    (model): Qwen2_5_VLForConditionalGeneration(\n",
              "      (visual): Qwen2_5_VisionTransformerPretrainedModel(\n",
              "        (patch_embed): Qwen2_5_VisionPatchEmbed(\n",
              "          (proj): Conv3d(3, 1280, kernel_size=(2, 14, 14), stride=(2, 14, 14), bias=False)\n",
              "        )\n",
              "        (rotary_pos_emb): Qwen2_5_VisionRotaryEmbedding()\n",
              "        (blocks): ModuleList(\n",
              "          (0-31): 32 x Qwen2_5_VLVisionBlock(\n",
              "            (norm1): Qwen2RMSNorm((1280,), eps=1e-06)\n",
              "            (norm2): Qwen2RMSNorm((1280,), eps=1e-06)\n",
              "            (attn): Qwen2_5_VLVisionSdpaAttention(\n",
              "              (qkv): lora.Linear4bit(\n",
              "                (base_layer): Linear4bit(in_features=1280, out_features=3840, bias=True)\n",
              "                (lora_dropout): ModuleDict(\n",
              "                  (default): Identity()\n",
              "                )\n",
              "                (lora_A): ModuleDict(\n",
              "                  (default): Linear(in_features=1280, out_features=16, bias=False)\n",
              "                )\n",
              "                (lora_B): ModuleDict(\n",
              "                  (default): Linear(in_features=16, out_features=3840, bias=False)\n",
              "                )\n",
              "                (lora_embedding_A): ParameterDict()\n",
              "                (lora_embedding_B): ParameterDict()\n",
              "                (lora_magnitude_vector): ModuleDict()\n",
              "              )\n",
              "              (proj): lora.Linear4bit(\n",
              "                (base_layer): Linear4bit(in_features=1280, out_features=1280, bias=True)\n",
              "                (lora_dropout): ModuleDict(\n",
              "                  (default): Identity()\n",
              "                )\n",
              "                (lora_A): ModuleDict(\n",
              "                  (default): Linear(in_features=1280, out_features=16, bias=False)\n",
              "                )\n",
              "                (lora_B): ModuleDict(\n",
              "                  (default): Linear(in_features=16, out_features=1280, bias=False)\n",
              "                )\n",
              "                (lora_embedding_A): ParameterDict()\n",
              "                (lora_embedding_B): ParameterDict()\n",
              "                (lora_magnitude_vector): ModuleDict()\n",
              "              )\n",
              "            )\n",
              "            (mlp): Qwen2_5_VLMLP(\n",
              "              (gate_proj): lora.Linear4bit(\n",
              "                (base_layer): Linear4bit(in_features=1280, out_features=3420, bias=True)\n",
              "                (lora_dropout): ModuleDict(\n",
              "                  (default): Identity()\n",
              "                )\n",
              "                (lora_A): ModuleDict(\n",
              "                  (default): Linear(in_features=1280, out_features=16, bias=False)\n",
              "                )\n",
              "                (lora_B): ModuleDict(\n",
              "                  (default): Linear(in_features=16, out_features=3420, bias=False)\n",
              "                )\n",
              "                (lora_embedding_A): ParameterDict()\n",
              "                (lora_embedding_B): ParameterDict()\n",
              "                (lora_magnitude_vector): ModuleDict()\n",
              "              )\n",
              "              (up_proj): lora.Linear4bit(\n",
              "                (base_layer): Linear4bit(in_features=1280, out_features=3420, bias=True)\n",
              "                (lora_dropout): ModuleDict(\n",
              "                  (default): Identity()\n",
              "                )\n",
              "                (lora_A): ModuleDict(\n",
              "                  (default): Linear(in_features=1280, out_features=16, bias=False)\n",
              "                )\n",
              "                (lora_B): ModuleDict(\n",
              "                  (default): Linear(in_features=16, out_features=3420, bias=False)\n",
              "                )\n",
              "                (lora_embedding_A): ParameterDict()\n",
              "                (lora_embedding_B): ParameterDict()\n",
              "                (lora_magnitude_vector): ModuleDict()\n",
              "              )\n",
              "              (down_proj): lora.Linear4bit(\n",
              "                (base_layer): Linear4bit(in_features=3420, out_features=1280, bias=True)\n",
              "                (lora_dropout): ModuleDict(\n",
              "                  (default): Identity()\n",
              "                )\n",
              "                (lora_A): ModuleDict(\n",
              "                  (default): Linear(in_features=3420, out_features=16, bias=False)\n",
              "                )\n",
              "                (lora_B): ModuleDict(\n",
              "                  (default): Linear(in_features=16, out_features=1280, bias=False)\n",
              "                )\n",
              "                (lora_embedding_A): ParameterDict()\n",
              "                (lora_embedding_B): ParameterDict()\n",
              "                (lora_magnitude_vector): ModuleDict()\n",
              "              )\n",
              "              (act_fn): SiLU()\n",
              "            )\n",
              "          )\n",
              "        )\n",
              "        (merger): Qwen2_5_VLPatchMerger(\n",
              "          (ln_q): Qwen2RMSNorm((1280,), eps=1e-06)\n",
              "          (mlp): Sequential(\n",
              "            (0): Linear(in_features=5120, out_features=5120, bias=True)\n",
              "            (1): GELU(approximate='none')\n",
              "            (2): Linear(in_features=5120, out_features=3584, bias=True)\n",
              "          )\n",
              "        )\n",
              "      )\n",
              "      (model): Qwen2_5_VLModel(\n",
              "        (embed_tokens): Embedding(152064, 3584, padding_idx=151654)\n",
              "        (layers): ModuleList(\n",
              "          (0-27): 28 x Qwen2_5_VLDecoderLayer(\n",
              "            (self_attn): Qwen2_5_VLSdpaAttention(\n",
              "              (q_proj): lora.Linear4bit(\n",
              "                (base_layer): Linear4bit(in_features=3584, out_features=3584, bias=True)\n",
              "                (lora_dropout): ModuleDict(\n",
              "                  (default): Identity()\n",
              "                )\n",
              "                (lora_A): ModuleDict(\n",
              "                  (default): Linear(in_features=3584, out_features=16, bias=False)\n",
              "                )\n",
              "                (lora_B): ModuleDict(\n",
              "                  (default): Linear(in_features=16, out_features=3584, bias=False)\n",
              "                )\n",
              "                (lora_embedding_A): ParameterDict()\n",
              "                (lora_embedding_B): ParameterDict()\n",
              "                (lora_magnitude_vector): ModuleDict()\n",
              "              )\n",
              "              (k_proj): lora.Linear4bit(\n",
              "                (base_layer): Linear4bit(in_features=3584, out_features=512, bias=True)\n",
              "                (lora_dropout): ModuleDict(\n",
              "                  (default): Identity()\n",
              "                )\n",
              "                (lora_A): ModuleDict(\n",
              "                  (default): Linear(in_features=3584, out_features=16, bias=False)\n",
              "                )\n",
              "                (lora_B): ModuleDict(\n",
              "                  (default): Linear(in_features=16, out_features=512, bias=False)\n",
              "                )\n",
              "                (lora_embedding_A): ParameterDict()\n",
              "                (lora_embedding_B): ParameterDict()\n",
              "                (lora_magnitude_vector): ModuleDict()\n",
              "              )\n",
              "              (v_proj): lora.Linear4bit(\n",
              "                (base_layer): Linear4bit(in_features=3584, out_features=512, bias=True)\n",
              "                (lora_dropout): ModuleDict(\n",
              "                  (default): Identity()\n",
              "                )\n",
              "                (lora_A): ModuleDict(\n",
              "                  (default): Linear(in_features=3584, out_features=16, bias=False)\n",
              "                )\n",
              "                (lora_B): ModuleDict(\n",
              "                  (default): Linear(in_features=16, out_features=512, bias=False)\n",
              "                )\n",
              "                (lora_embedding_A): ParameterDict()\n",
              "                (lora_embedding_B): ParameterDict()\n",
              "                (lora_magnitude_vector): ModuleDict()\n",
              "              )\n",
              "              (o_proj): lora.Linear4bit(\n",
              "                (base_layer): Linear4bit(in_features=3584, out_features=3584, bias=False)\n",
              "                (lora_dropout): ModuleDict(\n",
              "                  (default): Identity()\n",
              "                )\n",
              "                (lora_A): ModuleDict(\n",
              "                  (default): Linear(in_features=3584, out_features=16, bias=False)\n",
              "                )\n",
              "                (lora_B): ModuleDict(\n",
              "                  (default): Linear(in_features=16, out_features=3584, bias=False)\n",
              "                )\n",
              "                (lora_embedding_A): ParameterDict()\n",
              "                (lora_embedding_B): ParameterDict()\n",
              "                (lora_magnitude_vector): ModuleDict()\n",
              "              )\n",
              "              (rotary_emb): Qwen2_5_VLRotaryEmbedding()\n",
              "            )\n",
              "            (mlp): Qwen2MLP(\n",
              "              (gate_proj): lora.Linear4bit(\n",
              "                (base_layer): Linear4bit(in_features=3584, out_features=18944, bias=False)\n",
              "                (lora_dropout): ModuleDict(\n",
              "                  (default): Identity()\n",
              "                )\n",
              "                (lora_A): ModuleDict(\n",
              "                  (default): Linear(in_features=3584, out_features=16, bias=False)\n",
              "                )\n",
              "                (lora_B): ModuleDict(\n",
              "                  (default): Linear(in_features=16, out_features=18944, bias=False)\n",
              "                )\n",
              "                (lora_embedding_A): ParameterDict()\n",
              "                (lora_embedding_B): ParameterDict()\n",
              "                (lora_magnitude_vector): ModuleDict()\n",
              "              )\n",
              "              (up_proj): lora.Linear4bit(\n",
              "                (base_layer): Linear4bit(in_features=3584, out_features=18944, bias=False)\n",
              "                (lora_dropout): ModuleDict(\n",
              "                  (default): Identity()\n",
              "                )\n",
              "                (lora_A): ModuleDict(\n",
              "                  (default): Linear(in_features=3584, out_features=16, bias=False)\n",
              "                )\n",
              "                (lora_B): ModuleDict(\n",
              "                  (default): Linear(in_features=16, out_features=18944, bias=False)\n",
              "                )\n",
              "                (lora_embedding_A): ParameterDict()\n",
              "                (lora_embedding_B): ParameterDict()\n",
              "                (lora_magnitude_vector): ModuleDict()\n",
              "              )\n",
              "              (down_proj): lora.Linear4bit(\n",
              "                (base_layer): Linear4bit(in_features=18944, out_features=3584, bias=False)\n",
              "                (lora_dropout): ModuleDict(\n",
              "                  (default): Identity()\n",
              "                )\n",
              "                (lora_A): ModuleDict(\n",
              "                  (default): Linear(in_features=18944, out_features=16, bias=False)\n",
              "                )\n",
              "                (lora_B): ModuleDict(\n",
              "                  (default): Linear(in_features=16, out_features=3584, bias=False)\n",
              "                )\n",
              "                (lora_embedding_A): ParameterDict()\n",
              "                (lora_embedding_B): ParameterDict()\n",
              "                (lora_magnitude_vector): ModuleDict()\n",
              "              )\n",
              "              (act_fn): SiLU()\n",
              "            )\n",
              "            (input_layernorm): Qwen2RMSNorm((3584,), eps=1e-06)\n",
              "            (post_attention_layernorm): Qwen2RMSNorm((3584,), eps=1e-06)\n",
              "          )\n",
              "        )\n",
              "        (norm): Qwen2RMSNorm((3584,), eps=1e-06)\n",
              "        (rotary_emb): Qwen2_5_VLRotaryEmbedding()\n",
              "      )\n",
              "      (lm_head): Linear(in_features=3584, out_features=152064, bias=False)\n",
              "    )\n",
              "  )\n",
              ")"
            ]
          },
          "metadata": {},
          "execution_count": 27
        }
      ]
    },
    {
      "cell_type": "code",
      "source": [
        "trainer = SFTTrainer(\n",
        "    model = model,\n",
        "    tokenizer=tokenizer,\n",
        "    data_collator = UnslothVisionDataCollator(model, tokenizer),\n",
        "    train_dataset = converted_dataset,\n",
        "    args = SFTConfig(\n",
        "        per_device_train_batch_size=2,\n",
        "        gradient_accumulation_steps=4,\n",
        "        warmup_steps = 5,\n",
        "        max_steps=30,\n",
        "        learning_rate=2e-4,\n",
        "        fp16=not is_bf16_supported(),\n",
        "        bf16 = is_bf16_supported(),\n",
        "        logging_steps=1,\n",
        "        optim=\"adamw_8bit\",\n",
        "        weight_decay=0.01,\n",
        "        lr_scheduler_type=\"linear\",\n",
        "        seed=3407,\n",
        "        output_dir=\"outputs\",\n",
        "        report_to = \"none\",\n",
        "        remove_unused_columns=False,\n",
        "        dataset_text_field=\"\",\n",
        "        dataset_kwargs = {\"skip_prepare_dataset\": True},\n",
        "        dataset_num_proc=4,\n",
        "        max_seq_length=2048,\n",
        "    ),\n",
        ")"
      ],
      "metadata": {
        "colab": {
          "base_uri": "https://localhost:8080/"
        },
        "id": "nRURgYsJNP36",
        "outputId": "e7d7177c-b196-4d56-ce28-64f7a255fbd9"
      },
      "execution_count": 47,
      "outputs": [
        {
          "output_type": "stream",
          "name": "stdout",
          "text": [
            "Unsloth: Model does not have a default image size - using 512\n"
          ]
        }
      ]
    },
    {
      "cell_type": "code",
      "source": [
        "# @title Show current memory stats\n",
        "gpu_stats = torch.cuda.get_device_properties(0)\n",
        "start_gpu_memory = round(torch.cuda.max_memory_reserved() / 1024 / 1024 / 1024, 3)\n",
        "max_memory = round(gpu_stats.total_memory / 1024 / 1024 / 1024, 3)\n",
        "print(f\"GPU = {gpu_stats.name}. Max memory = {max_memory} GB.\")\n",
        "print(f\"{start_gpu_memory} GB of memory reserved.\")"
      ],
      "metadata": {
        "colab": {
          "base_uri": "https://localhost:8080/"
        },
        "id": "fMoYmX_MNPx0",
        "outputId": "ecfaf0f3-418e-472d-bdaa-767a8629abd2"
      },
      "execution_count": 40,
      "outputs": [
        {
          "output_type": "stream",
          "name": "stdout",
          "text": [
            "GPU = Tesla T4. Max memory = 14.741 GB.\n",
            "6.068 GB of memory reserved.\n"
          ]
        }
      ]
    },
    {
      "cell_type": "code",
      "source": [],
      "metadata": {
        "id": "SjoonOWXSG00"
      },
      "execution_count": 49,
      "outputs": []
    },
    {
      "cell_type": "code",
      "source": [
        "# @title Show final memory and time stats\n",
        "used_memory = round(torch.cuda.max_memory_reserved() / 1024 / 1024 / 1024, 3)\n",
        "used_memory_for_lora = round(used_memory - start_gpu_memory, 3)\n",
        "used_percentage = round(used_memory / max_memory * 100, 3)\n",
        "lora_percentage = round(used_memory_for_lora / max_memory * 100, 3)\n",
        "\n",
        "print(f\"Peak reserved memory = {used_memory} GB.\")\n",
        "print(f\"Peak reserved memory for training = {used_memory_for_lora} GB.\")\n",
        "print(f\"Peak reserved memory % of max memory = {used_percentage} %.\")\n",
        "print(f\"Peak reserved memory for training % of max memory = {lora_percentage} %.\")"
      ],
      "metadata": {
        "colab": {
          "base_uri": "https://localhost:8080/"
        },
        "id": "33yFLRVTS5yx",
        "outputId": "ed0484a8-dbce-4da9-c058-e79e244a3ff6"
      },
      "execution_count": 51,
      "outputs": [
        {
          "output_type": "stream",
          "name": "stdout",
          "text": [
            "Peak reserved memory = 6.068 GB.\n",
            "Peak reserved memory for training = 0.0 GB.\n",
            "Peak reserved memory % of max memory = 41.164 %.\n",
            "Peak reserved memory for training % of max memory = 0.0 %.\n"
          ]
        }
      ]
    },
    {
      "cell_type": "markdown",
      "source": [
        "Inferernce\n"
      ],
      "metadata": {
        "id": "kk7_vIulTaJh"
      }
    },
    {
      "cell_type": "code",
      "source": [
        "FastVisionModel.for_inference(model)\n",
        "image = ds[2][\"image\"]\n",
        "instruction = \"Write the LaTeX representation for this image.\"\n",
        "\n",
        "messages = [\n",
        "    {\"role\": \"user\", \"content\": [\n",
        "        {\"type\": \"image\"},\n",
        "        {\"type\": \"text\", \"text\": instruction}\n",
        "    ]}\n",
        "]\n",
        "input_text = tokenizer.apply_chat_template(messages, add_generation_prompt = True)\n",
        "inputs = tokenizer(\n",
        "    image,\n",
        "    input_text,\n",
        "    add_special_tokens = False,\n",
        "    return_tensors = \"pt\",\n",
        ").to(\"cuda\")\n",
        "\n",
        "from transformers import TextStreamer\n",
        "text_streamer = TextStreamer(tokenizer, skip_prompt = True)\n",
        "_ = model.generate(**inputs, streamer = text_streamer, max_new_tokens = 128,\n",
        "                   use_cache = True, temperature = 1.5, min_p = 0.1)"
      ],
      "metadata": {
        "colab": {
          "base_uri": "https://localhost:8080/"
        },
        "id": "Hi9hPF7LTZ5G",
        "outputId": "2d654045-88af-4831-9ffa-d79a8761d468"
      },
      "execution_count": 46,
      "outputs": [
        {
          "output_type": "stream",
          "name": "stdout",
          "text": [
            "```latex\n",
            "H' = \\beta N \\int d\\lambda \\left\\{ \\frac{1}{2\\beta^2 N^2} \\partial_\\lambda \\zeta^\\dagger \\partial_\\lambda \\zeta + V(\\lambda) \\zeta^\\dagger \\zeta \\right\\}.\n",
            "```<|im_end|>\n"
          ]
        }
      ]
    },
    {
      "cell_type": "code",
      "source": [
        "model.save_pretrained(\"lora_model\")  # Local saving\n",
        "tokenizer.save_pretrained(\"lora_model\")"
      ],
      "metadata": {
        "colab": {
          "base_uri": "https://localhost:8080/"
        },
        "id": "AAQOZY-FTJ6u",
        "outputId": "3e3b201a-4b12-4ca1-81aa-ff86cda05766"
      },
      "execution_count": 54,
      "outputs": [
        {
          "output_type": "execute_result",
          "data": {
            "text/plain": [
              "[]"
            ]
          },
          "metadata": {},
          "execution_count": 54
        }
      ]
    },
    {
      "cell_type": "code",
      "source": [
        " # Online saving"
      ],
      "metadata": {
        "id": "iL6P5CStUAb3"
      },
      "execution_count": 58,
      "outputs": []
    },
    {
      "cell_type": "code",
      "source": [],
      "metadata": {
        "id": "PsRIKzpYV-f1"
      },
      "execution_count": null,
      "outputs": []
    }
  ]
}